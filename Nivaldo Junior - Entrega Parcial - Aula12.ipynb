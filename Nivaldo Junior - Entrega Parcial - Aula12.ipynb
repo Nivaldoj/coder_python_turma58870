{
 "cells": [
  {
   "cell_type": "code",
   "execution_count": 47,
   "metadata": {},
   "outputs": [
    {
     "name": "stdout",
     "output_type": "stream",
     "text": [
      "ok\n",
      "{'cep': '05276029', 'state': 'SP', 'city': 'São Paulo', 'neighborhood': 'Anhangüera', 'street': 'Estrada da Fazenda Itahye', 'service': 'open-cep'}\n",
      "SP\n",
      "São Paulo\n",
      "Anhangüera\n"
     ]
    }
   ],
   "source": [
    "import requests\n",
    "import json\n",
    "from plyer import notification\n",
    "\n",
    "cep = '05276029'\n",
    "\n",
    "\n",
    "req = requests.get(f\"https://brasilapi.com.br/api/cep/v1/{cep}\")\n",
    "\n",
    "\n",
    "if req.status_code == 200:\n",
    "    print('ok')\n",
    "\n",
    "    req = (req.json())\n",
    "    print(req)\n",
    "\n",
    "    state = req['state']\n",
    "    city =  req['city']\n",
    "    bairro = req['neighborhood']\n",
    "\n",
    "    print(state)\n",
    "    print(city)\n",
    "    print(bairro)\n",
    "\n",
    "else:\n",
    "    notification.notify(title = f'Erro Crítico {req.status_code}', \n",
    "                    message = 'Não foi possível se comunicar com essa API', \n",
    "                    app_name = 'Alerta', \n",
    "                    timeout = 10)\n",
    "\n"
   ]
  },
  {
   "cell_type": "code",
   "execution_count": 9,
   "metadata": {},
   "outputs": [
    {
     "name": "stdout",
     "output_type": "stream",
     "text": [
      "SP\n",
      "EMBU\n",
      "VÁRZEA PAULISTA\n",
      "VARGEM GRANDE PAULISTA\n",
      "VARGEM\n",
      "TUIUTI\n",
      "TABOÃO DA SERRA\n",
      "SUZANO\n",
      "SÃO ROQUE\n",
      "SÃO PAULO\n",
      "SÃO LOURENÇO DA SERRA\n",
      "SÃO CAETANO DO SUL\n",
      "SÃO BERNARDO DO CAMPO\n",
      "SANTO ANDRÉ\n",
      "SANTANA DE PARNAÍBA\n",
      "SANTA ISABEL\n",
      "SALTO\n",
      "SALESÓPOLIS\n",
      "RIO GRANDE DA SERRA\n",
      "RIBEIRÃO PIRES\n",
      "POÁ\n",
      "PIRAPORA DO BOM JESUS\n",
      "PIRACAIA\n",
      "PINHALZINHO\n",
      "PEDRA BELA\n",
      "OSASCO\n",
      "NAZARÉ PAULISTA\n",
      "MORUNGABA\n",
      "MOGI DAS CRUZES\n",
      "MAUÁ\n",
      "MAIRIPORÃ\n",
      "MAIRINQUE\n",
      "JUQUITIBA\n",
      "JUNDIAÍ\n",
      "JOANÓPOLIS\n",
      "JARINU\n",
      "JANDIRA\n",
      "ITUPEVA\n",
      "ITU\n",
      "ITATIBA\n",
      "ITAQUAQUECETUBA\n",
      "ITAPEVI\n",
      "ITAPECERICA DA SERRA\n",
      "IGARATÁ\n",
      "GUARULHOS\n",
      "GUARAREMA\n",
      "FRANCO DA ROCHA\n",
      "FRANCISCO MORATO\n",
      "FERRAZ DE VASCONCELOS\n",
      "EMBU-GUAÇU\n",
      "DIADEMA\n",
      "COTIA\n",
      "CARAPICUÍBA\n",
      "CAMPO LIMPO PAULISTA\n",
      "CAJAMAR\n",
      "CAIEIRAS\n",
      "CABREÚVA\n",
      "BRAGANÇA PAULISTA\n",
      "BOM JESUS DOS PERDÕES\n",
      "BIRITIBA-MIRIM\n",
      "BARUERI\n",
      "ATIBAIA\n",
      "ARUJÁ\n",
      "ARAÇARIGUAMA\n",
      "ALUMÍNIO\n"
     ]
    }
   ],
   "source": [
    "import requests\n",
    "import json\n",
    "from plyer import notification\n",
    "\n",
    "ddd = '11'\n",
    "\n",
    "requisição = requests.get(f\"https://brasilapi.com.br/api/ddd/v1/{ddd}\")\n",
    "\n",
    "if requisição.status_code == 200:\n",
    "\n",
    "    requisição = requisição.json()\n",
    "\n",
    "    print(requisição['state'])\n",
    "\n",
    "    for city in requisição['cities']:\n",
    "        print(city)\n",
    "\n",
    "else:\n",
    "    notification.notify(title = f'Erro Crítico {requisição.status_code}', \n",
    "                    message = 'Não foi possível se comunicar com essa API', \n",
    "                    app_name = 'Alerta', \n",
    "                    timeout = 10)"
   ]
  },
  {
   "cell_type": "code",
   "execution_count": 46,
   "metadata": {},
   "outputs": [
    {
     "name": "stdout",
     "output_type": "stream",
     "text": [
      "EX\n"
     ]
    }
   ],
   "source": [
    "import requests\n",
    "import json\n",
    "from plyer import notification\n",
    "\n",
    "cnpj = '06947283000160'\n",
    "\n",
    "cnpj_req = requests.get(f\"https://brasilapi.com.br/api/cnpj/v1/{cnpj}\")\n",
    "\n",
    "if cnpj_req.status_code == 200:\n",
    "\n",
    "    cnpj_req = cnpj_req.json()\n",
    "    print(cnpj_req['uf'])\n",
    "\n",
    "else:\n",
    "\n",
    "    notification.notify(title = f'Erro Crítico {cnpj_req.status_code}', \n",
    "                    message = 'Não foi possível se comunicar com essa API', \n",
    "                    app_name = 'Alerta', \n",
    "                    timeout = 10)\n"
   ]
  }
 ],
 "metadata": {
  "kernelspec": {
   "display_name": "Python 3",
   "language": "python",
   "name": "python3"
  },
  "language_info": {
   "codemirror_mode": {
    "name": "ipython",
    "version": 3
   },
   "file_extension": ".py",
   "mimetype": "text/x-python",
   "name": "python",
   "nbconvert_exporter": "python",
   "pygments_lexer": "ipython3",
   "version": "3.11.4"
  }
 },
 "nbformat": 4,
 "nbformat_minor": 2
}
